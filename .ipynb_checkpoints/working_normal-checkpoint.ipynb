{
 "cells": [
  {
   "cell_type": "code",
   "execution_count": 1,
   "metadata": {},
   "outputs": [],
   "source": [
    "import pandas as pd\n",
    "import numpy as np\n",
    "import datetime as dt\n",
    "import matplotlib.pyplot as plt\n",
    "%matplotlib inline"
   ]
  },
  {
   "cell_type": "code",
   "execution_count": 2,
   "metadata": {},
   "outputs": [],
   "source": [
    "df = pd.read_csv('data.csv')"
   ]
  },
  {
   "cell_type": "code",
   "execution_count": 3,
   "metadata": {},
   "outputs": [
    {
     "data": {
      "text/html": [
       "<div>\n",
       "<style scoped>\n",
       "    .dataframe tbody tr th:only-of-type {\n",
       "        vertical-align: middle;\n",
       "    }\n",
       "\n",
       "    .dataframe tbody tr th {\n",
       "        vertical-align: top;\n",
       "    }\n",
       "\n",
       "    .dataframe thead th {\n",
       "        text-align: right;\n",
       "    }\n",
       "</style>\n",
       "<table border=\"1\" class=\"dataframe\">\n",
       "  <thead>\n",
       "    <tr style=\"text-align: right;\">\n",
       "      <th></th>\n",
       "      <th>0</th>\n",
       "      <th>1</th>\n",
       "      <th>2</th>\n",
       "      <th>3</th>\n",
       "      <th>4</th>\n",
       "    </tr>\n",
       "  </thead>\n",
       "  <tbody>\n",
       "    <tr>\n",
       "      <th>house_pk</th>\n",
       "      <td>84561</td>\n",
       "      <td>84561</td>\n",
       "      <td>84561</td>\n",
       "      <td>84561</td>\n",
       "      <td>84561</td>\n",
       "    </tr>\n",
       "    <tr>\n",
       "      <th>agency_id</th>\n",
       "      <td>90</td>\n",
       "      <td>90</td>\n",
       "      <td>90</td>\n",
       "      <td>90</td>\n",
       "      <td>90</td>\n",
       "    </tr>\n",
       "    <tr>\n",
       "      <th>date_in</th>\n",
       "      <td>2016-08-27</td>\n",
       "      <td>2016-08-26</td>\n",
       "      <td>2016-08-25</td>\n",
       "      <td>2016-08-24</td>\n",
       "      <td>2016-08-23</td>\n",
       "    </tr>\n",
       "    <tr>\n",
       "      <th>price</th>\n",
       "      <td>532</td>\n",
       "      <td>588</td>\n",
       "      <td>588</td>\n",
       "      <td>588</td>\n",
       "      <td>588</td>\n",
       "    </tr>\n",
       "    <tr>\n",
       "      <th>dis_water_real</th>\n",
       "      <td>0.261</td>\n",
       "      <td>0.261</td>\n",
       "      <td>0.261</td>\n",
       "      <td>0.261</td>\n",
       "      <td>0.261</td>\n",
       "    </tr>\n",
       "    <tr>\n",
       "      <th>dis_shopping</th>\n",
       "      <td>3</td>\n",
       "      <td>3</td>\n",
       "      <td>3</td>\n",
       "      <td>3</td>\n",
       "      <td>3</td>\n",
       "    </tr>\n",
       "    <tr>\n",
       "      <th>no_bedrooms</th>\n",
       "      <td>3</td>\n",
       "      <td>3</td>\n",
       "      <td>3</td>\n",
       "      <td>3</td>\n",
       "      <td>3</td>\n",
       "    </tr>\n",
       "    <tr>\n",
       "      <th>max_persons</th>\n",
       "      <td>4</td>\n",
       "      <td>4</td>\n",
       "      <td>4</td>\n",
       "      <td>4</td>\n",
       "      <td>4</td>\n",
       "    </tr>\n",
       "    <tr>\n",
       "      <th>house_size</th>\n",
       "      <td>140</td>\n",
       "      <td>140</td>\n",
       "      <td>140</td>\n",
       "      <td>140</td>\n",
       "      <td>140</td>\n",
       "    </tr>\n",
       "    <tr>\n",
       "      <th>land_size</th>\n",
       "      <td>726</td>\n",
       "      <td>726</td>\n",
       "      <td>726</td>\n",
       "      <td>726</td>\n",
       "      <td>726</td>\n",
       "    </tr>\n",
       "    <tr>\n",
       "      <th>build_year</th>\n",
       "      <td>1953</td>\n",
       "      <td>1953</td>\n",
       "      <td>1953</td>\n",
       "      <td>1953</td>\n",
       "      <td>1953</td>\n",
       "    </tr>\n",
       "    <tr>\n",
       "      <th>renovation_year</th>\n",
       "      <td>2014</td>\n",
       "      <td>2014</td>\n",
       "      <td>2014</td>\n",
       "      <td>2014</td>\n",
       "      <td>2014</td>\n",
       "    </tr>\n",
       "    <tr>\n",
       "      <th>apartment</th>\n",
       "      <td>0</td>\n",
       "      <td>0</td>\n",
       "      <td>0</td>\n",
       "      <td>0</td>\n",
       "      <td>0</td>\n",
       "    </tr>\n",
       "    <tr>\n",
       "      <th>indoor_pool</th>\n",
       "      <td>0</td>\n",
       "      <td>0</td>\n",
       "      <td>0</td>\n",
       "      <td>0</td>\n",
       "      <td>0</td>\n",
       "    </tr>\n",
       "    <tr>\n",
       "      <th>spa</th>\n",
       "      <td>1</td>\n",
       "      <td>1</td>\n",
       "      <td>1</td>\n",
       "      <td>1</td>\n",
       "      <td>1</td>\n",
       "    </tr>\n",
       "    <tr>\n",
       "      <th>internet</th>\n",
       "      <td>1</td>\n",
       "      <td>1</td>\n",
       "      <td>1</td>\n",
       "      <td>1</td>\n",
       "      <td>1</td>\n",
       "    </tr>\n",
       "    <tr>\n",
       "      <th>pets_allowed</th>\n",
       "      <td>0</td>\n",
       "      <td>0</td>\n",
       "      <td>0</td>\n",
       "      <td>0</td>\n",
       "      <td>0</td>\n",
       "    </tr>\n",
       "    <tr>\n",
       "      <th>water_view</th>\n",
       "      <td>1</td>\n",
       "      <td>1</td>\n",
       "      <td>1</td>\n",
       "      <td>1</td>\n",
       "      <td>1</td>\n",
       "    </tr>\n",
       "    <tr>\n",
       "      <th>fire_stove</th>\n",
       "      <td>1</td>\n",
       "      <td>1</td>\n",
       "      <td>1</td>\n",
       "      <td>1</td>\n",
       "      <td>1</td>\n",
       "    </tr>\n",
       "    <tr>\n",
       "      <th>agency_rating</th>\n",
       "      <td>3</td>\n",
       "      <td>3</td>\n",
       "      <td>3</td>\n",
       "      <td>3</td>\n",
       "      <td>3</td>\n",
       "    </tr>\n",
       "  </tbody>\n",
       "</table>\n",
       "</div>"
      ],
      "text/plain": [
       "                          0           1           2           3           4\n",
       "house_pk              84561       84561       84561       84561       84561\n",
       "agency_id                90          90          90          90          90\n",
       "date_in          2016-08-27  2016-08-26  2016-08-25  2016-08-24  2016-08-23\n",
       "price                   532         588         588         588         588\n",
       "dis_water_real        0.261       0.261       0.261       0.261       0.261\n",
       "dis_shopping              3           3           3           3           3\n",
       "no_bedrooms               3           3           3           3           3\n",
       "max_persons               4           4           4           4           4\n",
       "house_size              140         140         140         140         140\n",
       "land_size               726         726         726         726         726\n",
       "build_year             1953        1953        1953        1953        1953\n",
       "renovation_year        2014        2014        2014        2014        2014\n",
       "apartment                 0           0           0           0           0\n",
       "indoor_pool               0           0           0           0           0\n",
       "spa                       1           1           1           1           1\n",
       "internet                  1           1           1           1           1\n",
       "pets_allowed              0           0           0           0           0\n",
       "water_view                1           1           1           1           1\n",
       "fire_stove                1           1           1           1           1\n",
       "agency_rating             3           3           3           3           3"
      ]
     },
     "execution_count": 3,
     "metadata": {},
     "output_type": "execute_result"
    }
   ],
   "source": [
    "df.head().T"
   ]
  },
  {
   "cell_type": "code",
   "execution_count": 4,
   "metadata": {},
   "outputs": [
    {
     "data": {
      "text/plain": [
       "(85195, 20)"
      ]
     },
     "execution_count": 4,
     "metadata": {},
     "output_type": "execute_result"
    }
   ],
   "source": [
    "df.shape"
   ]
  },
  {
   "cell_type": "code",
   "execution_count": 5,
   "metadata": {},
   "outputs": [
    {
     "name": "stdout",
     "output_type": "stream",
     "text": [
      "<class 'pandas.core.frame.DataFrame'>\n",
      "RangeIndex: 85195 entries, 0 to 85194\n",
      "Data columns (total 20 columns):\n",
      "house_pk           85195 non-null int64\n",
      "agency_id          85195 non-null int64\n",
      "date_in            85195 non-null object\n",
      "price              85195 non-null int64\n",
      "dis_water_real     85195 non-null float64\n",
      "dis_shopping       85195 non-null float64\n",
      "no_bedrooms        85195 non-null int64\n",
      "max_persons        85195 non-null int64\n",
      "house_size         85195 non-null int64\n",
      "land_size          85195 non-null int64\n",
      "build_year         85195 non-null int64\n",
      "renovation_year    85195 non-null int64\n",
      "apartment          85195 non-null int64\n",
      "indoor_pool        85195 non-null int64\n",
      "spa                85195 non-null int64\n",
      "internet           85195 non-null int64\n",
      "pets_allowed       85195 non-null int64\n",
      "water_view         85195 non-null int64\n",
      "fire_stove         85195 non-null int64\n",
      "agency_rating      85195 non-null float64\n",
      "dtypes: float64(3), int64(16), object(1)\n",
      "memory usage: 13.0+ MB\n"
     ]
    }
   ],
   "source": [
    "df.info()"
   ]
  },
  {
   "cell_type": "code",
   "execution_count": 6,
   "metadata": {},
   "outputs": [
    {
     "data": {
      "text/plain": [
       "house_pk           0\n",
       "agency_id          0\n",
       "date_in            0\n",
       "price              0\n",
       "dis_water_real     0\n",
       "dis_shopping       0\n",
       "no_bedrooms        0\n",
       "max_persons        0\n",
       "house_size         0\n",
       "land_size          0\n",
       "build_year         0\n",
       "renovation_year    0\n",
       "apartment          0\n",
       "indoor_pool        0\n",
       "spa                0\n",
       "internet           0\n",
       "pets_allowed       0\n",
       "water_view         0\n",
       "fire_stove         0\n",
       "agency_rating      0\n",
       "dtype: int64"
      ]
     },
     "execution_count": 6,
     "metadata": {},
     "output_type": "execute_result"
    }
   ],
   "source": [
    "df.isnull().sum()"
   ]
  },
  {
   "cell_type": "code",
   "execution_count": 7,
   "metadata": {},
   "outputs": [],
   "source": [
    "df['date_in'] = pd.to_datetime(df['date_in'])"
   ]
  },
  {
   "cell_type": "code",
   "execution_count": 8,
   "metadata": {},
   "outputs": [
    {
     "name": "stdout",
     "output_type": "stream",
     "text": [
      "<class 'pandas.core.frame.DataFrame'>\n",
      "RangeIndex: 85195 entries, 0 to 85194\n",
      "Data columns (total 20 columns):\n",
      "house_pk           85195 non-null int64\n",
      "agency_id          85195 non-null int64\n",
      "date_in            85195 non-null datetime64[ns]\n",
      "price              85195 non-null int64\n",
      "dis_water_real     85195 non-null float64\n",
      "dis_shopping       85195 non-null float64\n",
      "no_bedrooms        85195 non-null int64\n",
      "max_persons        85195 non-null int64\n",
      "house_size         85195 non-null int64\n",
      "land_size          85195 non-null int64\n",
      "build_year         85195 non-null int64\n",
      "renovation_year    85195 non-null int64\n",
      "apartment          85195 non-null int64\n",
      "indoor_pool        85195 non-null int64\n",
      "spa                85195 non-null int64\n",
      "internet           85195 non-null int64\n",
      "pets_allowed       85195 non-null int64\n",
      "water_view         85195 non-null int64\n",
      "fire_stove         85195 non-null int64\n",
      "agency_rating      85195 non-null float64\n",
      "dtypes: datetime64[ns](1), float64(3), int64(16)\n",
      "memory usage: 13.0 MB\n"
     ]
    }
   ],
   "source": [
    "df.info()"
   ]
  },
  {
   "cell_type": "code",
   "execution_count": 9,
   "metadata": {},
   "outputs": [],
   "source": [
    "df['date_in'] = df['date_in'].map(dt.datetime.toordinal)"
   ]
  },
  {
   "cell_type": "code",
   "execution_count": 10,
   "metadata": {},
   "outputs": [
    {
     "data": {
      "text/html": [
       "<div>\n",
       "<style scoped>\n",
       "    .dataframe tbody tr th:only-of-type {\n",
       "        vertical-align: middle;\n",
       "    }\n",
       "\n",
       "    .dataframe tbody tr th {\n",
       "        vertical-align: top;\n",
       "    }\n",
       "\n",
       "    .dataframe thead th {\n",
       "        text-align: right;\n",
       "    }\n",
       "</style>\n",
       "<table border=\"1\" class=\"dataframe\">\n",
       "  <thead>\n",
       "    <tr style=\"text-align: right;\">\n",
       "      <th></th>\n",
       "      <th>0</th>\n",
       "      <th>1</th>\n",
       "      <th>2</th>\n",
       "      <th>3</th>\n",
       "      <th>4</th>\n",
       "    </tr>\n",
       "  </thead>\n",
       "  <tbody>\n",
       "    <tr>\n",
       "      <th>house_pk</th>\n",
       "      <td>84561.000</td>\n",
       "      <td>84561.000</td>\n",
       "      <td>84561.000</td>\n",
       "      <td>84561.000</td>\n",
       "      <td>84561.000</td>\n",
       "    </tr>\n",
       "    <tr>\n",
       "      <th>agency_id</th>\n",
       "      <td>90.000</td>\n",
       "      <td>90.000</td>\n",
       "      <td>90.000</td>\n",
       "      <td>90.000</td>\n",
       "      <td>90.000</td>\n",
       "    </tr>\n",
       "    <tr>\n",
       "      <th>date_in</th>\n",
       "      <td>736203.000</td>\n",
       "      <td>736202.000</td>\n",
       "      <td>736201.000</td>\n",
       "      <td>736200.000</td>\n",
       "      <td>736199.000</td>\n",
       "    </tr>\n",
       "    <tr>\n",
       "      <th>price</th>\n",
       "      <td>532.000</td>\n",
       "      <td>588.000</td>\n",
       "      <td>588.000</td>\n",
       "      <td>588.000</td>\n",
       "      <td>588.000</td>\n",
       "    </tr>\n",
       "    <tr>\n",
       "      <th>dis_water_real</th>\n",
       "      <td>0.261</td>\n",
       "      <td>0.261</td>\n",
       "      <td>0.261</td>\n",
       "      <td>0.261</td>\n",
       "      <td>0.261</td>\n",
       "    </tr>\n",
       "    <tr>\n",
       "      <th>dis_shopping</th>\n",
       "      <td>3.000</td>\n",
       "      <td>3.000</td>\n",
       "      <td>3.000</td>\n",
       "      <td>3.000</td>\n",
       "      <td>3.000</td>\n",
       "    </tr>\n",
       "    <tr>\n",
       "      <th>no_bedrooms</th>\n",
       "      <td>3.000</td>\n",
       "      <td>3.000</td>\n",
       "      <td>3.000</td>\n",
       "      <td>3.000</td>\n",
       "      <td>3.000</td>\n",
       "    </tr>\n",
       "    <tr>\n",
       "      <th>max_persons</th>\n",
       "      <td>4.000</td>\n",
       "      <td>4.000</td>\n",
       "      <td>4.000</td>\n",
       "      <td>4.000</td>\n",
       "      <td>4.000</td>\n",
       "    </tr>\n",
       "    <tr>\n",
       "      <th>house_size</th>\n",
       "      <td>140.000</td>\n",
       "      <td>140.000</td>\n",
       "      <td>140.000</td>\n",
       "      <td>140.000</td>\n",
       "      <td>140.000</td>\n",
       "    </tr>\n",
       "    <tr>\n",
       "      <th>land_size</th>\n",
       "      <td>726.000</td>\n",
       "      <td>726.000</td>\n",
       "      <td>726.000</td>\n",
       "      <td>726.000</td>\n",
       "      <td>726.000</td>\n",
       "    </tr>\n",
       "    <tr>\n",
       "      <th>build_year</th>\n",
       "      <td>1953.000</td>\n",
       "      <td>1953.000</td>\n",
       "      <td>1953.000</td>\n",
       "      <td>1953.000</td>\n",
       "      <td>1953.000</td>\n",
       "    </tr>\n",
       "    <tr>\n",
       "      <th>renovation_year</th>\n",
       "      <td>2014.000</td>\n",
       "      <td>2014.000</td>\n",
       "      <td>2014.000</td>\n",
       "      <td>2014.000</td>\n",
       "      <td>2014.000</td>\n",
       "    </tr>\n",
       "    <tr>\n",
       "      <th>apartment</th>\n",
       "      <td>0.000</td>\n",
       "      <td>0.000</td>\n",
       "      <td>0.000</td>\n",
       "      <td>0.000</td>\n",
       "      <td>0.000</td>\n",
       "    </tr>\n",
       "    <tr>\n",
       "      <th>indoor_pool</th>\n",
       "      <td>0.000</td>\n",
       "      <td>0.000</td>\n",
       "      <td>0.000</td>\n",
       "      <td>0.000</td>\n",
       "      <td>0.000</td>\n",
       "    </tr>\n",
       "    <tr>\n",
       "      <th>spa</th>\n",
       "      <td>1.000</td>\n",
       "      <td>1.000</td>\n",
       "      <td>1.000</td>\n",
       "      <td>1.000</td>\n",
       "      <td>1.000</td>\n",
       "    </tr>\n",
       "    <tr>\n",
       "      <th>internet</th>\n",
       "      <td>1.000</td>\n",
       "      <td>1.000</td>\n",
       "      <td>1.000</td>\n",
       "      <td>1.000</td>\n",
       "      <td>1.000</td>\n",
       "    </tr>\n",
       "    <tr>\n",
       "      <th>pets_allowed</th>\n",
       "      <td>0.000</td>\n",
       "      <td>0.000</td>\n",
       "      <td>0.000</td>\n",
       "      <td>0.000</td>\n",
       "      <td>0.000</td>\n",
       "    </tr>\n",
       "    <tr>\n",
       "      <th>water_view</th>\n",
       "      <td>1.000</td>\n",
       "      <td>1.000</td>\n",
       "      <td>1.000</td>\n",
       "      <td>1.000</td>\n",
       "      <td>1.000</td>\n",
       "    </tr>\n",
       "    <tr>\n",
       "      <th>fire_stove</th>\n",
       "      <td>1.000</td>\n",
       "      <td>1.000</td>\n",
       "      <td>1.000</td>\n",
       "      <td>1.000</td>\n",
       "      <td>1.000</td>\n",
       "    </tr>\n",
       "    <tr>\n",
       "      <th>agency_rating</th>\n",
       "      <td>3.000</td>\n",
       "      <td>3.000</td>\n",
       "      <td>3.000</td>\n",
       "      <td>3.000</td>\n",
       "      <td>3.000</td>\n",
       "    </tr>\n",
       "  </tbody>\n",
       "</table>\n",
       "</div>"
      ],
      "text/plain": [
       "                          0           1           2           3           4\n",
       "house_pk          84561.000   84561.000   84561.000   84561.000   84561.000\n",
       "agency_id            90.000      90.000      90.000      90.000      90.000\n",
       "date_in          736203.000  736202.000  736201.000  736200.000  736199.000\n",
       "price               532.000     588.000     588.000     588.000     588.000\n",
       "dis_water_real        0.261       0.261       0.261       0.261       0.261\n",
       "dis_shopping          3.000       3.000       3.000       3.000       3.000\n",
       "no_bedrooms           3.000       3.000       3.000       3.000       3.000\n",
       "max_persons           4.000       4.000       4.000       4.000       4.000\n",
       "house_size          140.000     140.000     140.000     140.000     140.000\n",
       "land_size           726.000     726.000     726.000     726.000     726.000\n",
       "build_year         1953.000    1953.000    1953.000    1953.000    1953.000\n",
       "renovation_year    2014.000    2014.000    2014.000    2014.000    2014.000\n",
       "apartment             0.000       0.000       0.000       0.000       0.000\n",
       "indoor_pool           0.000       0.000       0.000       0.000       0.000\n",
       "spa                   1.000       1.000       1.000       1.000       1.000\n",
       "internet              1.000       1.000       1.000       1.000       1.000\n",
       "pets_allowed          0.000       0.000       0.000       0.000       0.000\n",
       "water_view            1.000       1.000       1.000       1.000       1.000\n",
       "fire_stove            1.000       1.000       1.000       1.000       1.000\n",
       "agency_rating         3.000       3.000       3.000       3.000       3.000"
      ]
     },
     "execution_count": 10,
     "metadata": {},
     "output_type": "execute_result"
    }
   ],
   "source": [
    "df.head().T"
   ]
  },
  {
   "cell_type": "code",
   "execution_count": 11,
   "metadata": {},
   "outputs": [
    {
     "data": {
      "text/plain": [
       "4"
      ]
     },
     "execution_count": 11,
     "metadata": {},
     "output_type": "execute_result"
    }
   ],
   "source": [
    "len(df.agency_rating.unique())"
   ]
  },
  {
   "cell_type": "code",
   "execution_count": 12,
   "metadata": {},
   "outputs": [],
   "source": [
    "from sklearn.preprocessing import MinMaxScaler"
   ]
  },
  {
   "cell_type": "code",
   "execution_count": 13,
   "metadata": {},
   "outputs": [],
   "source": [
    "scaler = MinMaxScaler(feature_range=(0,1))"
   ]
  },
  {
   "cell_type": "code",
   "execution_count": 14,
   "metadata": {},
   "outputs": [],
   "source": [
    "y_data = df['price']"
   ]
  },
  {
   "cell_type": "code",
   "execution_count": 15,
   "metadata": {},
   "outputs": [
    {
     "data": {
      "text/plain": [
       "pandas.core.series.Series"
      ]
     },
     "execution_count": 15,
     "metadata": {},
     "output_type": "execute_result"
    }
   ],
   "source": [
    "type(y_data)"
   ]
  },
  {
   "cell_type": "code",
   "execution_count": 16,
   "metadata": {},
   "outputs": [],
   "source": [
    "x_data = df.drop('price',axis=1)"
   ]
  },
  {
   "cell_type": "code",
   "execution_count": 17,
   "metadata": {},
   "outputs": [
    {
     "data": {
      "text/plain": [
       "pandas.core.frame.DataFrame"
      ]
     },
     "execution_count": 17,
     "metadata": {},
     "output_type": "execute_result"
    }
   ],
   "source": [
    "type(x_data)"
   ]
  },
  {
   "cell_type": "code",
   "execution_count": 18,
   "metadata": {},
   "outputs": [
    {
     "data": {
      "text/plain": [
       "(85195, 19)"
      ]
     },
     "execution_count": 18,
     "metadata": {},
     "output_type": "execute_result"
    }
   ],
   "source": [
    "x_data.shape"
   ]
  },
  {
   "cell_type": "code",
   "execution_count": 19,
   "metadata": {},
   "outputs": [
    {
     "data": {
      "text/plain": [
       "(85195,)"
      ]
     },
     "execution_count": 19,
     "metadata": {},
     "output_type": "execute_result"
    }
   ],
   "source": [
    "y_data.shape"
   ]
  },
  {
   "cell_type": "code",
   "execution_count": 20,
   "metadata": {},
   "outputs": [],
   "source": [
    "y_data = y_data.values"
   ]
  },
  {
   "cell_type": "code",
   "execution_count": 21,
   "metadata": {},
   "outputs": [
    {
     "name": "stdout",
     "output_type": "stream",
     "text": [
      "(85195,) <class 'numpy.ndarray'>\n"
     ]
    }
   ],
   "source": [
    "print(y_data.shape, type(y_data))"
   ]
  },
  {
   "cell_type": "code",
   "execution_count": 22,
   "metadata": {},
   "outputs": [],
   "source": [
    "y_data = y_data.reshape(-1,1)"
   ]
  },
  {
   "cell_type": "code",
   "execution_count": 23,
   "metadata": {},
   "outputs": [
    {
     "data": {
      "text/plain": [
       "array([[532.],\n",
       "       [588.],\n",
       "       [588.],\n",
       "       ...,\n",
       "       [308.],\n",
       "       [312.],\n",
       "       [308.]], dtype=float32)"
      ]
     },
     "execution_count": 23,
     "metadata": {},
     "output_type": "execute_result"
    }
   ],
   "source": [
    "y_data = y_data.astype(np.float32)\n",
    "y_data"
   ]
  },
  {
   "cell_type": "code",
   "execution_count": 24,
   "metadata": {},
   "outputs": [
    {
     "data": {
      "text/html": [
       "<div>\n",
       "<style scoped>\n",
       "    .dataframe tbody tr th:only-of-type {\n",
       "        vertical-align: middle;\n",
       "    }\n",
       "\n",
       "    .dataframe tbody tr th {\n",
       "        vertical-align: top;\n",
       "    }\n",
       "\n",
       "    .dataframe thead th {\n",
       "        text-align: right;\n",
       "    }\n",
       "</style>\n",
       "<table border=\"1\" class=\"dataframe\">\n",
       "  <thead>\n",
       "    <tr style=\"text-align: right;\">\n",
       "      <th></th>\n",
       "      <th>agency_id</th>\n",
       "      <th>date_in</th>\n",
       "      <th>dis_water_real</th>\n",
       "      <th>dis_shopping</th>\n",
       "      <th>no_bedrooms</th>\n",
       "      <th>max_persons</th>\n",
       "      <th>house_size</th>\n",
       "      <th>land_size</th>\n",
       "      <th>build_year</th>\n",
       "      <th>renovation_year</th>\n",
       "      <th>apartment</th>\n",
       "      <th>indoor_pool</th>\n",
       "      <th>spa</th>\n",
       "      <th>internet</th>\n",
       "      <th>pets_allowed</th>\n",
       "      <th>water_view</th>\n",
       "      <th>fire_stove</th>\n",
       "      <th>agency_rating</th>\n",
       "    </tr>\n",
       "  </thead>\n",
       "  <tbody>\n",
       "    <tr>\n",
       "      <th>0</th>\n",
       "      <td>90</td>\n",
       "      <td>736203</td>\n",
       "      <td>0.261</td>\n",
       "      <td>3.0</td>\n",
       "      <td>3</td>\n",
       "      <td>4</td>\n",
       "      <td>140</td>\n",
       "      <td>726</td>\n",
       "      <td>1953</td>\n",
       "      <td>2014</td>\n",
       "      <td>0</td>\n",
       "      <td>0</td>\n",
       "      <td>1</td>\n",
       "      <td>1</td>\n",
       "      <td>0</td>\n",
       "      <td>1</td>\n",
       "      <td>1</td>\n",
       "      <td>3.0</td>\n",
       "    </tr>\n",
       "    <tr>\n",
       "      <th>1</th>\n",
       "      <td>90</td>\n",
       "      <td>736202</td>\n",
       "      <td>0.261</td>\n",
       "      <td>3.0</td>\n",
       "      <td>3</td>\n",
       "      <td>4</td>\n",
       "      <td>140</td>\n",
       "      <td>726</td>\n",
       "      <td>1953</td>\n",
       "      <td>2014</td>\n",
       "      <td>0</td>\n",
       "      <td>0</td>\n",
       "      <td>1</td>\n",
       "      <td>1</td>\n",
       "      <td>0</td>\n",
       "      <td>1</td>\n",
       "      <td>1</td>\n",
       "      <td>3.0</td>\n",
       "    </tr>\n",
       "    <tr>\n",
       "      <th>2</th>\n",
       "      <td>90</td>\n",
       "      <td>736201</td>\n",
       "      <td>0.261</td>\n",
       "      <td>3.0</td>\n",
       "      <td>3</td>\n",
       "      <td>4</td>\n",
       "      <td>140</td>\n",
       "      <td>726</td>\n",
       "      <td>1953</td>\n",
       "      <td>2014</td>\n",
       "      <td>0</td>\n",
       "      <td>0</td>\n",
       "      <td>1</td>\n",
       "      <td>1</td>\n",
       "      <td>0</td>\n",
       "      <td>1</td>\n",
       "      <td>1</td>\n",
       "      <td>3.0</td>\n",
       "    </tr>\n",
       "    <tr>\n",
       "      <th>3</th>\n",
       "      <td>90</td>\n",
       "      <td>736200</td>\n",
       "      <td>0.261</td>\n",
       "      <td>3.0</td>\n",
       "      <td>3</td>\n",
       "      <td>4</td>\n",
       "      <td>140</td>\n",
       "      <td>726</td>\n",
       "      <td>1953</td>\n",
       "      <td>2014</td>\n",
       "      <td>0</td>\n",
       "      <td>0</td>\n",
       "      <td>1</td>\n",
       "      <td>1</td>\n",
       "      <td>0</td>\n",
       "      <td>1</td>\n",
       "      <td>1</td>\n",
       "      <td>3.0</td>\n",
       "    </tr>\n",
       "    <tr>\n",
       "      <th>4</th>\n",
       "      <td>90</td>\n",
       "      <td>736199</td>\n",
       "      <td>0.261</td>\n",
       "      <td>3.0</td>\n",
       "      <td>3</td>\n",
       "      <td>4</td>\n",
       "      <td>140</td>\n",
       "      <td>726</td>\n",
       "      <td>1953</td>\n",
       "      <td>2014</td>\n",
       "      <td>0</td>\n",
       "      <td>0</td>\n",
       "      <td>1</td>\n",
       "      <td>1</td>\n",
       "      <td>0</td>\n",
       "      <td>1</td>\n",
       "      <td>1</td>\n",
       "      <td>3.0</td>\n",
       "    </tr>\n",
       "  </tbody>\n",
       "</table>\n",
       "</div>"
      ],
      "text/plain": [
       "   agency_id  date_in  dis_water_real  dis_shopping  no_bedrooms  max_persons  \\\n",
       "0         90   736203           0.261           3.0            3            4   \n",
       "1         90   736202           0.261           3.0            3            4   \n",
       "2         90   736201           0.261           3.0            3            4   \n",
       "3         90   736200           0.261           3.0            3            4   \n",
       "4         90   736199           0.261           3.0            3            4   \n",
       "\n",
       "   house_size  land_size  build_year  renovation_year  apartment  indoor_pool  \\\n",
       "0         140        726        1953             2014          0            0   \n",
       "1         140        726        1953             2014          0            0   \n",
       "2         140        726        1953             2014          0            0   \n",
       "3         140        726        1953             2014          0            0   \n",
       "4         140        726        1953             2014          0            0   \n",
       "\n",
       "   spa  internet  pets_allowed  water_view  fire_stove  agency_rating  \n",
       "0    1         1             0           1           1            3.0  \n",
       "1    1         1             0           1           1            3.0  \n",
       "2    1         1             0           1           1            3.0  \n",
       "3    1         1             0           1           1            3.0  \n",
       "4    1         1             0           1           1            3.0  "
      ]
     },
     "execution_count": 24,
     "metadata": {},
     "output_type": "execute_result"
    }
   ],
   "source": [
    "x_data = x_data.drop('house_pk',axis =1 )\n",
    "x_data.head()"
   ]
  },
  {
   "cell_type": "code",
   "execution_count": 25,
   "metadata": {},
   "outputs": [],
   "source": [
    "x_data = x_data.values\n",
    "x_data = x_data.astype(np.float32)"
   ]
  },
  {
   "cell_type": "code",
   "execution_count": 26,
   "metadata": {},
   "outputs": [
    {
     "data": {
      "text/plain": [
       "numpy.ndarray"
      ]
     },
     "execution_count": 26,
     "metadata": {},
     "output_type": "execute_result"
    }
   ],
   "source": [
    "type(x_data)"
   ]
  },
  {
   "cell_type": "code",
   "execution_count": 27,
   "metadata": {},
   "outputs": [
    {
     "data": {
      "text/plain": [
       "array([[0.        , 0.1887207 , 0.00572884, ..., 1.        , 1.        ,\n",
       "        0.3333333 ],\n",
       "       [0.        , 0.18786621, 0.00572884, ..., 1.        , 1.        ,\n",
       "        0.3333333 ],\n",
       "       [0.        , 0.18701172, 0.00572884, ..., 1.        , 1.        ,\n",
       "        0.3333333 ],\n",
       "       ...,\n",
       "       [0.        , 0.9848633 , 0.01512325, ..., 0.        , 1.        ,\n",
       "        0.6666667 ],\n",
       "       [0.        , 0.9940796 , 0.01512325, ..., 0.        , 1.        ,\n",
       "        0.6666667 ],\n",
       "       [0.        , 0.99072266, 0.01512325, ..., 0.        , 1.        ,\n",
       "        0.6666667 ]], dtype=float32)"
      ]
     },
     "execution_count": 27,
     "metadata": {},
     "output_type": "execute_result"
    }
   ],
   "source": [
    "x_data_scaled = scaler.fit_transform(x_data)\n",
    "x_data_scaled"
   ]
  },
  {
   "cell_type": "code",
   "execution_count": 28,
   "metadata": {},
   "outputs": [],
   "source": [
    "y_data_scaled = scaler.fit_transform(y_data)"
   ]
  },
  {
   "cell_type": "code",
   "execution_count": 29,
   "metadata": {},
   "outputs": [],
   "source": [
    "from sklearn.model_selection import train_test_split"
   ]
  },
  {
   "cell_type": "code",
   "execution_count": 30,
   "metadata": {},
   "outputs": [],
   "source": [
    "batch_size = 100"
   ]
  },
  {
   "cell_type": "code",
   "execution_count": 31,
   "metadata": {},
   "outputs": [],
   "source": [
    "X_train, X_test, y_train, y_test = train_test_split(x_data_scaled, y_data_scaled, test_size=0.1, random_state=42)"
   ]
  },
  {
   "cell_type": "code",
   "execution_count": 32,
   "metadata": {},
   "outputs": [],
   "source": [
    "import torch\n",
    "import torch.nn as nn\n",
    "from torch.autograd import Variable"
   ]
  },
  {
   "cell_type": "code",
   "execution_count": 33,
   "metadata": {},
   "outputs": [],
   "source": [
    "X_train_torch = torch.from_numpy(X_train)\n",
    "y_train_torch = torch.from_numpy(y_train)\n",
    "X_test_torch = torch.from_numpy(X_test)\n",
    "y_test_torch = torch.from_numpy(y_test)"
   ]
  },
  {
   "cell_type": "code",
   "execution_count": 34,
   "metadata": {},
   "outputs": [],
   "source": [
    "class Test(nn.Module):\n",
    "    def __init__(self, input_dim, hidden_dim, output_dim):\n",
    "        super(Test, self).__init__()\n",
    "        \n",
    "        self.linear1 = nn.Linear(input_dim, hidden_dim)\n",
    "        self.linear2 = nn.Linear(hidden_dim, hidden_dim)\n",
    "        self.linear3 = nn.Linear(hidden_dim, hidden_dim)\n",
    "        self.linear4 = nn.Linear(hidden_dim, hidden_dim)\n",
    "        self.linear5 = nn.Linear(hidden_dim, output_dim)\n",
    "        \n",
    "        self.relu = nn.ReLU()\n",
    "        \n",
    "       \n",
    "        \n",
    "    def forward(self, x):\n",
    "        \n",
    "        out = self.relu(self.linear1(x))\n",
    "        out = self.relu(self.linear2(out))\n",
    "        out = nn.functional.dropout(out, 0.4)\n",
    "        out = self.relu(self.linear3(out))\n",
    "        out = self.relu(self.linear4(out))\n",
    "        out = nn.functional.dropout(out, 0.5)\n",
    "        out = self.linear5(out)\n",
    "        \n",
    "        return out"
   ]
  },
  {
   "cell_type": "code",
   "execution_count": 35,
   "metadata": {},
   "outputs": [
    {
     "name": "stdout",
     "output_type": "stream",
     "text": [
      "Test(\n",
      "  (linear1): Linear(in_features=18, out_features=60, bias=True)\n",
      "  (linear2): Linear(in_features=60, out_features=60, bias=True)\n",
      "  (linear3): Linear(in_features=60, out_features=60, bias=True)\n",
      "  (linear4): Linear(in_features=60, out_features=60, bias=True)\n",
      "  (linear5): Linear(in_features=60, out_features=1, bias=True)\n",
      "  (relu): ReLU()\n",
      ")\n"
     ]
    }
   ],
   "source": [
    "input_dim = 18\n",
    "output_dim = 1\n",
    "hidden_dim = 50\n",
    "\n",
    "model = Test(input_dim, hidden_dim, output_dim)\n",
    "print(model)"
   ]
  },
  {
   "cell_type": "code",
   "execution_count": 36,
   "metadata": {},
   "outputs": [],
   "source": [
    "criterion = nn.MSELoss()\n",
    "optimizer = torch.optim.SGD(model.parameters(), lr= 0.01)"
   ]
  },
  {
   "cell_type": "code",
   "execution_count": 37,
   "metadata": {},
   "outputs": [
    {
     "name": "stdout",
     "output_type": "stream",
     "text": [
      "iter: 20, loss: 0.0320\n",
      "iter: 40, loss: 0.0194\n"
     ]
    }
   ],
   "source": [
    "epochs = 50\n",
    "\n",
    "iterr = 0\n",
    "for epoch in range(epochs):\n",
    "    \n",
    "    \n",
    "        \n",
    "    X_train_torch = Variable(X_train_torch)\n",
    "\n",
    "    y_train_torch = Variable(y_train_torch)\n",
    "\n",
    "    optimizer.zero_grad()\n",
    "\n",
    "    output = model(X_train_torch)\n",
    "\n",
    "    loss = criterion(output, y_train_torch)\n",
    "    \n",
    "    iterr += 1\n",
    "    \n",
    "    if iterr % 20 == 0:\n",
    "        \n",
    "\n",
    "        print('iter: {}, loss: {:.4f}'.format(iterr, loss.item()))\n",
    "\n",
    "    loss.backward()\n",
    "\n",
    "    optimizer.step()"
   ]
  },
  {
   "cell_type": "code",
   "execution_count": 38,
   "metadata": {},
   "outputs": [],
   "source": [
    "predicted = model.forward(Variable(X_test_torch)).data.numpy()"
   ]
  },
  {
   "cell_type": "code",
   "execution_count": 39,
   "metadata": {},
   "outputs": [
    {
     "data": {
      "text/plain": [
       "array([[0.18331787],\n",
       "       [0.15635331],\n",
       "       [0.1111185 ],\n",
       "       ...,\n",
       "       [0.14892727],\n",
       "       [0.13958506],\n",
       "       [0.1926955 ]], dtype=float32)"
      ]
     },
     "execution_count": 39,
     "metadata": {},
     "output_type": "execute_result"
    }
   ],
   "source": [
    "predicted"
   ]
  },
  {
   "cell_type": "code",
   "execution_count": 40,
   "metadata": {},
   "outputs": [],
   "source": [
    "from sklearn.metrics import mean_squared_error"
   ]
  },
  {
   "cell_type": "code",
   "execution_count": 41,
   "metadata": {},
   "outputs": [
    {
     "name": "stdout",
     "output_type": "stream",
     "text": [
      "0.13124678\n"
     ]
    }
   ],
   "source": [
    "rmse = np.sqrt(mean_squared_error(predicted, y_test))\n",
    "\n",
    "print(rmse)"
   ]
  },
  {
   "cell_type": "code",
   "execution_count": 42,
   "metadata": {},
   "outputs": [],
   "source": [
    "predicted_original = scaler.inverse_transform(predicted)\n",
    "y_test_original = scaler.inverse_transform(y_test)"
   ]
  },
  {
   "cell_type": "code",
   "execution_count": 43,
   "metadata": {},
   "outputs": [
    {
     "data": {
      "text/plain": [
       "array([[515.62555],\n",
       "       [443.8998 ],\n",
       "       [323.57523],\n",
       "       ...,\n",
       "       [424.14655],\n",
       "       [399.29626],\n",
       "       [540.57   ]], dtype=float32)"
      ]
     },
     "execution_count": 43,
     "metadata": {},
     "output_type": "execute_result"
    }
   ],
   "source": [
    "predicted_original"
   ]
  },
  {
   "cell_type": "code",
   "execution_count": 44,
   "metadata": {},
   "outputs": [
    {
     "data": {
      "text/plain": [
       "array([[287.     ],\n",
       "       [364.     ],\n",
       "       [357.     ],\n",
       "       ...,\n",
       "       [791.00006],\n",
       "       [322.     ],\n",
       "       [875.     ]], dtype=float32)"
      ]
     },
     "execution_count": 44,
     "metadata": {},
     "output_type": "execute_result"
    }
   ],
   "source": [
    "y_test_original"
   ]
  },
  {
   "cell_type": "code",
   "execution_count": 45,
   "metadata": {},
   "outputs": [
    {
     "data": {
      "text/plain": [
       "<matplotlib.collections.PathCollection at 0x6a8002fb00>"
      ]
     },
     "execution_count": 45,
     "metadata": {},
     "output_type": "execute_result"
    },
    {
     "data": {
      "image/png": "[encoded data removed]",
      "text/plain": [
       "<Figure size 432x288 with 1 Axes>"
      ]
     },
     "metadata": {
      "needs_background": "light"
     },
     "output_type": "display_data"
    }
   ],
   "source": [
    "plt.scatter(y_test_original, predicted_original)"
   ]
  },
  {
   "cell_type": "code",
   "execution_count": null,
   "metadata": {},
   "outputs": [],
   "source": []
  }
 ],
 "metadata": {
  "kernelspec": {
   "display_name": "Python 3",
   "language": "python",
   "name": "python3"
  },
  "language_info": {
   "codemirror_mode": {
    "name": "ipython",
    "version": 3
   },
   "file_extension": ".py",
   "mimetype": "text/x-python",
   "name": "python",
   "nbconvert_exporter": "python",
   "pygments_lexer": "ipython3",
   "version": "3.7.1"
  }
 },
 "nbformat": 4,
 "nbformat_minor": 2
}
